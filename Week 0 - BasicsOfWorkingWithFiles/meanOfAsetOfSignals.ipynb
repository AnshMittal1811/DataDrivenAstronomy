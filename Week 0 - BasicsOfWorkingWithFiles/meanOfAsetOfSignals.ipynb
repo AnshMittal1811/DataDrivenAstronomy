{
 "cells": [
  {
   "cell_type": "code",
   "execution_count": 1,
   "metadata": {},
   "outputs": [],
   "source": [
    "# In this set of activities, we will introduce you to some basic data manipulation skills, including reading data from external files.\n",
    "# You will use these skills to solve a series of problems that lead you towards the task for this module: calculating the mean stack of a set of FITS images.\n",
    "# If you already have lots of programming experience, these will be straightforward, and we expect you to work through them quickly.\n",
    "# If you're new to programming we've broken the problem down into stages so you can work on manageable chunks.\n",
    "# If you need help, check out the Coursera forums, where the chances are other people are asking the same questions you are!\n",
    "\n",
    "\n"
   ]
  },
  {
   "cell_type": "code",
   "execution_count": 3,
   "metadata": {},
   "outputs": [
    {
     "name": "stdout",
     "output_type": "stream",
     "text": [
      "23.96\n"
     ]
    }
   ],
   "source": [
    "# Let's start with a program to calculate the mean of a set of numbers stored in a Python list.\n",
    "# The mean function in the Python statistics module works like this:\n",
    "\n",
    "from statistics import mean\n",
    "fluxes = [23.3, 42.1, 2.0, -3.2, 55.6]\n",
    "s = mean(fluxes)\n",
    "print(s)"
   ]
  },
  {
   "cell_type": "code",
   "execution_count": 5,
   "metadata": {},
   "outputs": [
    {
     "name": "stdout",
     "output_type": "stream",
     "text": [
      "23.96\n"
     ]
    }
   ],
   "source": [
    "# OR we could calculate the mean manually:\n",
    "\n",
    "fluxes = [23.3, 42.1, 2.0, -3.2, 55.6]\n",
    "s = sum(fluxes)/len(fluxes)\n",
    "print(s)\n",
    "\n",
    "\n",
    "# using the built-in sum and len functions.\n",
    "# Use the standard library function (e.g. mean) if it exists rather than implementing your own, unless there is a good reason not to.\n",
    "# One good reason (at least temporarily) is learning!"
   ]
  },
  {
   "cell_type": "code",
   "execution_count": 6,
   "metadata": {},
   "outputs": [
    {
     "name": "stdout",
     "output_type": "stream",
     "text": [
      "2.96\n"
     ]
    }
   ],
   "source": [
    "# We'll start with an easy question to check everything is working.\n",
    "# Write a function calculate_mean that calculates the mean of a list of numbers. Your function should take a single argument, the list of floats, and return the mean of that list, like this:\n",
    "\n",
    "# >>> calculate_mean([1, 2.2, 0.3, 3.4, 7.9])\n",
    "# 2.96\n",
    "\n",
    "# We'll test your function on different lists, so make sure it works for the general case. Here's another example of how it should work:\n",
    "\n",
    "# >>> calculate_mean([1.2, 3.8, 2.2, 8.2, 7.1])\n",
    "# 4.5\n",
    "\n",
    "# Your solution cannot use the builtin statistics module.\n",
    "# Make sure your program works for negative numbers as well. We will not test your program with an empty list.\n",
    "\n",
    "# Remember the testing trick!\n",
    "# In Grok, you must only submit your function definition. Your program must not print any output. To test your function, use the __name__ == '__main__' trick, like this:\n",
    "\n",
    "# def double(a):\n",
    "#   return a*2\n",
    "  \n",
    "# if __name__ == '__main__':\n",
    "#   # run your tests in here\n",
    "#   print(double(5))\n",
    "# Everything in this if statement will be ignored by the marker.\n",
    "\n",
    "\n",
    "# Write your calculate_mean function here.\n",
    "def calculate_mean(a):\n",
    "  m = sum(a)/len(a)\n",
    "  return m  \n",
    "  \n",
    "\n",
    "# You can use this to test your function.\n",
    "# Any code inside this `if` statement will be ignored by the automarker.\n",
    "if __name__ == '__main__':\n",
    "  # Run your `calculate_mean` function with examples:\n",
    "  mean = calculate_mean([1,2.2,0.3,3.4,7.9])\n",
    "  print(mean)\n",
    "  \n",
    " \n"
   ]
  },
  {
   "cell_type": "code",
   "execution_count": 11,
   "metadata": {},
   "outputs": [
    {
     "name": "stdout",
     "output_type": "stream",
     "text": [
      "23.96\n",
      "\n",
      "\n",
      "5\n",
      "22.585358088814974\n"
     ]
    }
   ],
   "source": [
    "# Python lists are very flexible, but they are slow for big calculations.\n",
    "# NumPy arrays can store purely numerical data in much less space, and are much simpler and faster for calculations.\n",
    "# We can calculate the mean with a NumPy array instead of a list:\n",
    "\n",
    "import numpy as np\n",
    "flux = np.array([23.3, 42.1, 2.0, -3.2, 55.6])\n",
    "l = np.mean(flux)\n",
    "print(l)\n",
    "\n",
    "# You should get the same answer as you did before. This may not look simpler yet, but it will in the future.\n",
    "# NumPy has a great range of numerical functions. For example, to calculate the size of an array, and the standard deviation:\n",
    "\n",
    "import numpy as n\n",
    "flux = n.array([23.3, 42.1, 2.0, -3.2, 55.6])\n",
    "print(\"\\n\")\n",
    "print(n.size(flux)) #length of array\n",
    "print(n.std(flux)) #standard deviation\n",
    "\n",
    "\n",
    "# The NumPy website has a full list of functions."
   ]
  },
  {
   "cell_type": "code",
   "execution_count": 14,
   "metadata": {},
   "outputs": [
    {
     "name": "stdout",
     "output_type": "stream",
     "text": [
      "[['8.84', '17.22', '13.22', '3.84'], ['3.99', '11.73', '19.66', '1.27'], ['16.14', '18.72', '7.43', '11.09']]\n"
     ]
    }
   ],
   "source": [
    "# Tables are often stored in comma-separated values (CSV) format. You can use Python's built-in string functions to read a CSV file into a list and process it.\n",
    "# The following examples read this data.csv file:\n",
    "    \n",
    "# data.csv\n",
    "\n",
    "# 8.84,17.22,13.22,3.84\n",
    "# 3.99,11.73,19.66,1.27\n",
    "# 16.14,18.72,7.43,11.09    \n",
    "\n",
    "# Our file has several rows and columns. We want to store each row in a list and the whole file as a list of these rows.\n",
    "# The program loops over each line in the file, splitting the row into a list of values, and appending each row to data:\n",
    "\n",
    "data = []\n",
    "for line in open('data.csv'):\n",
    "  data.append(line.strip().split(','))\n",
    "\n",
    "print(data)\n",
    "\n",
    "\n",
    "# The strip method removes whitespace (including the newline) from the ends of line. The split method creates a list of strings using the ',' character as the separator between items.\n",
    "# Each value is a string!\n",
    "# The split method returns a list of strings, so each value in each row is a string. We have to convert the values to floats before we can do any calculations with them."
   ]
  },
  {
   "cell_type": "code",
   "execution_count": 15,
   "metadata": {},
   "outputs": [
    {
     "name": "stdout",
     "output_type": "stream",
     "text": [
      "[[8.84, 17.22, 13.22, 3.84], [3.99, 11.73, 19.66, 1.27], [16.14, 18.72, 7.43, 11.09]]\n"
     ]
    }
   ],
   "source": [
    "# Now we can store the data in lists, we need to convert each item from a string to a float. We could do this using nested for loops:\n",
    "\n",
    "data = []\n",
    "for line in open('data.csv'):\n",
    "  row = []\n",
    "  for col in line.strip().split(','):\n",
    "    row.append(float(col))\n",
    "  data.append(row)\n",
    "print(data)\n",
    "\n",
    "# NumPy has a simpler asarray function to do this conversion:\n",
    "\n"
   ]
  },
  {
   "cell_type": "code",
   "execution_count": 16,
   "metadata": {},
   "outputs": [
    {
     "name": "stdout",
     "output_type": "stream",
     "text": [
      "[[ 8.84 17.22 13.22  3.84]\n",
      " [ 3.99 11.73 19.66  1.27]\n",
      " [16.14 18.72  7.43 11.09]]\n"
     ]
    }
   ],
   "source": [
    "import numpy as np\n",
    "\n",
    "data = []\n",
    "for line in open('data.csv'):\n",
    "  data.append(line.strip().split(','))\n",
    "\n",
    "data = np.asarray(data, float)\n",
    "print(data)\n",
    "\n",
    "# Most NumPy functions operate on the whole array at once rather than individual items.\n"
   ]
  },
  {
   "cell_type": "code",
   "execution_count": 18,
   "metadata": {
    "scrolled": true
   },
   "outputs": [
    {
     "name": "stdout",
     "output_type": "stream",
     "text": [
      "[[ 8.84 17.22 13.22  3.84]\n",
      " [ 3.99 11.73 19.66  1.27]\n",
      " [16.14 18.72  7.43 11.09]]\n"
     ]
    }
   ],
   "source": [
    "# Reading a NumPy array from CSV\n",
    "\n",
    "# The NumPy loadtxt function can automatically read a CSV file into a NumPy array, including converting from string to numbers.\n",
    "# Using our example file from the previous slide:\n",
    "\n",
    "# data.csv\n",
    "\n",
    "# 8.84,17.22,13.22,3.84\n",
    "# 3.99,11.73,19.66,1.27\n",
    "# 16.14,18.72,7.43,11.09\n",
    "\n",
    "# Reading and converting to floats becomes a single statement:\n",
    "\n",
    "import numpy as np\n",
    "data = np.loadtxt('data.csv', delimiter=',')\n",
    "print(data)\n",
    "\n",
    "# The NumPy loadtxt function is simpler, faster, and less error-prone than our previous solution. Use it!"
   ]
  },
  {
   "cell_type": "code",
   "execution_count": 19,
   "metadata": {},
   "outputs": [
    {
     "name": "stdout",
     "output_type": "stream",
     "text": [
      "(11.6, 12.5)\n"
     ]
    }
   ],
   "source": [
    "# Main Assignment\n",
    "\n",
    "# Write a calc_stats function that reads data from a CSV file and calculates its mean and the median. Your function should take the name of the file as an argument and return the mean and median in a tuple, rounded to one decimal place.\n",
    "# Here's a sample file that your function could take:\n",
    "\n",
    "# data.csv\n",
    "\n",
    "# 8.84,17.22,13.22,3.84\n",
    "# 3.99,11.73,19.66,1.27\n",
    "# 16.14,18.72,7.43,11.09\n",
    "\n",
    "# Your function should work like this:\n",
    "\n",
    "# >>> calc_stats('data.csv')\n",
    "# (11.1, 11.4)\n",
    "\n",
    "# The first value is the mean and the second value is the median. You can round your results using NumPy's round function.\n",
    "# Your solution cannot use the builtin statistics module.\n",
    "# To test your program with different files we've provided another two CSV files in the editor on the right.\n",
    "# For data2.csv, your function should work like this:\n",
    "\n",
    "# >>> calc_stats('data2.csv')\n",
    "# (11.4, 10.4)\n",
    "\n",
    "# Don't forget to round your results to one decimal place!\n",
    "\n",
    "# Hint\n",
    "# If you are using numpy's loadtxt function, make sure you set the delimiter to comma.\n",
    "\n",
    "# Write your calc_stats function here.\n",
    "\n",
    "import numpy as np\n",
    "def calc_stats(filename):\n",
    "  data = np.loadtxt(filename,delimiter=',')\n",
    "  \n",
    "  mean = np.mean(data)\n",
    "  median = np.median(data)\n",
    "  \n",
    "  return np.round(mean, 1), np.round(median, 1)\n",
    "# You can use this to test your function.\n",
    "# Any code inside this `if` statement will be ignored by the automarker.\n",
    "if __name__ == '__main__':\n",
    "  # Run your `calc_stats` function with examples:\n",
    "  mean = calc_stats('data3.csv')\n",
    "  print(mean)"
   ]
  },
  {
   "cell_type": "code",
   "execution_count": null,
   "metadata": {},
   "outputs": [],
   "source": [
    "# NumPy arrays: element-wise operations"
   ]
  },
  {
   "cell_type": "code",
   "execution_count": 21,
   "metadata": {},
   "outputs": [
    {
     "name": "stdout",
     "output_type": "stream",
     "text": [
      "[2 4 6]\n",
      "[5 7 9]\n",
      "[ 4 10 18]\n"
     ]
    }
   ],
   "source": [
    "# Unlike Python lists, NumPy arrays support numerical operations on entire arrays, either as element-wise or matrix operations.\n",
    "# A few examples are shown below:\n",
    "\n",
    "import numpy as np\n",
    "\n",
    "a = np.array([1, 2, 3])\n",
    "b = np.array([4, 5, 6])\n",
    "\n",
    "# Element-wise multiplication \n",
    "print(a*2)\n",
    "\n",
    "# Element-wise summation \n",
    "print(a + b)\n",
    "\n",
    "# Element-wise product \n",
    "print(a*b)\n",
    "\n",
    "\n",
    "# NumPy provides many functions for element-wise calculations."
   ]
  },
  {
   "cell_type": "code",
   "execution_count": 23,
   "metadata": {},
   "outputs": [
    {
     "name": "stdout",
     "output_type": "stream",
     "text": [
      "[1 2 3]\n",
      "[2 5]\n"
     ]
    }
   ],
   "source": [
    "# NumPy array operations\n",
    "\n",
    "# We can access elements in an array with index notation, just like a list. Functions that work on lists also work on 1D NumPy arrays.\n",
    "# You may have noticed that we also construct 1D arrays using lists.\n",
    "# We can construct a multi-dimensional array from a nested list i.e. lists within a list. We saw nested lists when reading from CSV files.\n",
    "# Rows or columns can be accessed using slicing, as shown below:\n",
    "\n",
    "import numpy as np\n",
    "\n",
    "a = np.array([[1,2,3], [4,5,6]])  # 2x3 array\n",
    "\n",
    "# Print first row of a:\n",
    "print(a[0,:])\n",
    "\n",
    "# Print second column of a:\n",
    "print(a[:,1])\n",
    "\n",
    "# NumPy's full array slicing functionality is described here."
   ]
  },
  {
   "cell_type": "code",
   "execution_count": 24,
   "metadata": {},
   "outputs": [],
   "source": [
    "# Write a mean_datasets function that reads in a list of CSV files and returns an array of the mean of each cell in the data files.\n",
    "# The files each contain n rows and m columns, giving a total of n x m cells. The individual cells are separated by commas, and all CSV files in the list will have the same number of rows and columns.\n",
    "# The result should have the same dimensions as the input files. The result should be a NumPy array with individual entries rounded to one decimal place.\n",
    "# Suppose we want to use the three files data1.csv, data2.csv and data3.csv. Your function should then take a list of the filenames and return the following:\n",
    "\n",
    "# >>> mean_datasets(['data1.csv', 'data2.csv', 'data3.csv'])\n",
    "# array([[ 11.   11.9  13. ]\n",
    "#        [  9.5   6.8   9.4]\n",
    "#        [  7.2  11.1  12.5]\n",
    "#        [  8.8   7.3   9.2]\n",
    "#        [ 16.6  10.6  10.3]])\n",
    "\n",
    "# For example, the 11.0 in the top-left cell is the mean of 7.98631, 12.65900, and 12.47115 (rounded to 1 decimal place). These values are from the first row and column of each CSV file.\n",
    "# Here's another sample output that your function should produce given the three files data4.csv, data5.csv, and data6.csv:\n",
    "\n",
    "# >>> mean_datasets(['data4.csv', 'data5.csv', 'data6.csv'])\n",
    "# array([[-2.9  2.6  0.6 -5.4]\n",
    "#        [-4.4 -0.7  0.7 -0.2]\n",
    "#        [-1.7  2.5 -8.7 -5.4]])\n",
    "\n",
    "\n",
    "# Make sure your function produces the sample outputs above\n",
    "\n",
    "# Hint :\n",
    "# We will test your function with different numbers of csv-files (but never less than two), so make sure it works in the general case. You can achieve this by looping over the list of file names and reading one file in at a time."
   ]
  },
  {
   "cell_type": "code",
   "execution_count": 29,
   "metadata": {},
   "outputs": [
    {
     "name": "stdout",
     "output_type": "stream",
     "text": [
      "[[11.  11.9 13. ]\n",
      " [ 9.5  6.8  9.4]\n",
      " [ 7.2 11.1 12.5]\n",
      " [ 8.8  7.3  9.2]\n",
      " [16.6 10.6 10.3]]\n",
      "[[-2.9  2.6  0.6 -5.4]\n",
      " [-4.4 -0.7  0.7 -0.2]\n",
      " [-1.7  2.5 -8.7 -5.4]]\n"
     ]
    }
   ],
   "source": [
    "import numpy as np\n",
    "# Write your mean_datasets function here\n",
    "def mean_datasets(files):\n",
    "  f = len(files)\n",
    "  if f > 0:\n",
    "    d = np.loadtxt(files[0],delimiter=',')\n",
    "    for i in range(1,f):\n",
    "      d += np.loadtxt(files[i],delimiter=',')\n",
    "    #mean across all \n",
    "    d_m = d/f\n",
    "    return np.round(d_m,1)\n",
    "\n",
    "# You can use this to test your function.\n",
    "# Any code inside this `if` statement will be ignored by the automarker.\n",
    "\n",
    "\n",
    "if __name__ == '__main__':\n",
    "  # Run your function with the first example from the question:\n",
    "  print(mean_datasets(['data1.csv', 'data21.csv', 'data31.csv']))\n",
    "\n",
    "  # Run your function with the second example from the question:\n",
    "  print(mean_datasets(['data4.csv', 'data5.csv', 'data6.csv']))\n"
   ]
  },
  {
   "cell_type": "code",
   "execution_count": null,
   "metadata": {},
   "outputs": [],
   "source": []
  }
 ],
 "metadata": {
  "kernelspec": {
   "display_name": "Python 3",
   "language": "python",
   "name": "python3"
  },
  "language_info": {
   "codemirror_mode": {
    "name": "ipython",
    "version": 3
   },
   "file_extension": ".py",
   "mimetype": "text/x-python",
   "name": "python",
   "nbconvert_exporter": "python",
   "pygments_lexer": "ipython3",
   "version": "3.6.5"
  }
 },
 "nbformat": 4,
 "nbformat_minor": 2
}
