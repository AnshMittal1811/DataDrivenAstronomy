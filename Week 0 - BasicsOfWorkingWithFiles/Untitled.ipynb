{
 "cells": [
  {
   "cell_type": "code",
   "execution_count": 1,
   "metadata": {},
   "outputs": [
    {
     "name": "stdout",
     "output_type": "stream",
     "text": [
      "Hello Grok!\n"
     ]
    }
   ],
   "source": [
    "print('Hello Grok!')\n"
   ]
  },
  {
   "cell_type": "code",
   "execution_count": 3,
   "metadata": {},
   "outputs": [
    {
     "name": "stdout",
     "output_type": "stream",
     "text": [
      "Hello, World!\n"
     ]
    }
   ],
   "source": [
    "print(\"Hello, World!\");"
   ]
  },
  {
   "cell_type": "code",
   "execution_count": 5,
   "metadata": {},
   "outputs": [],
   "source": [
    "# You can write all your code for this course in Grok Learning. You must submit your solutions through Grok for automatic marking.\n",
    "# However, we want you to run Python on your own device too!\n",
    "# This allows you to run your code offline and help you understand how the Python interpreter works. You can compare running time and memory usage on the Grok AWS servers to your own machine.\n",
    "# Later on, when we're working with really large datasets, we'll only use a small sample of them on Grok, but we'll provide additional ones for you to download to run on your machine.\n",
    "# Python is platform independent. The interpreter runs on Windows, Mac OS or Linux (and many other) operating systems. You can download it from the official Python website www.python.org.\n",
    "# You will find an extensive documentation and detailed installation instructions specific to your platform on this site.\n",
    "# There are two major versions available: Python 2.x and Python 3.x. The former is still widely used but is no longer actively developed, so we recommend using Python 3.x for new projects.\n",
    "# Python 3.x is used in this course and is the future of the language.\n",
    "\n",
    "\n",
    "# Python's standard library includes modules for solving a wide range of data processing tasks.\n",
    "# However, for scientific computing and data analysis, the Python developer community has created packages that simplify numerical computing and optimise performance on large data sets.\n",
    "# In the astronomy community, the most common modules include:\n",
    "# NumPy – support for numerical computing and matrices;\n",
    "# SciPy – fundamental libraries for scientific computing;\n",
    "# Matplotlib – powerful plotting and data visualisation;\n",
    "# Astropy – community library for astronomy.\n",
    "# We have many modules installed on Grok and throughout this course we'll show you how to use them.\n",
    "\n",
    "\n",
    "# Packages like NumPy and Astropy are not included in the standard Python installation. You need to install these packages separately.\n",
    "# Packages usually have installation instructions on their website.\n",
    "# Two common approaches are using:\n",
    "# a binary installer (you must use the right version for your Python version, operating system and CPU);\n",
    "# Python's pip installation tool.\n",
    "# Alternatively, you can use custom Python installations such as Enthought Canopy, Anaconda Python or Python(x, y) that include a large number of scientific and engineering packages. Anaconda and Python(x,y) are completely free, and Canopy is free for students.\n",
    "# One further note is that almost all astronomy software is designed to run on Linux / MacOSX. If you use Windows on your home machine you might want to install a virtual machine if you plan to work in this area in the future.\n"
   ]
  },
  {
   "cell_type": "code",
   "execution_count": 6,
   "metadata": {},
   "outputs": [],
   "source": [
    "# In this course, you will solve problems that deepen your understanding of the course material. Most questions will ask you to write a function that takes some input, and returns the result.\n",
    "# As a quick recap, Python's function syntax works like this:\n",
    "\n",
    "# def func(arg1, arg2, arg3, ...):\n",
    "#   <function body>\n",
    "#   return <result>\n",
    "\n",
    "# Function definitions start with the def keyword, followed by the name of the function, and a list of arguments in round brackets.\n",
    "# The body of the function is indented and values are returned using the return statement.\n",
    "# Here is a small example:\n"
   ]
  },
  {
   "cell_type": "code",
   "execution_count": 8,
   "metadata": {},
   "outputs": [
    {
     "name": "stdout",
     "output_type": "stream",
     "text": [
      "6\n",
      "33\n"
     ]
    }
   ],
   "source": [
    "def double(val):\n",
    "    return val+val\n",
    "print(double(3))\n",
    "print(double('3'))\n",
    "\n",
    "\n",
    "# The function double takes an argument val, whose type we don't have to specify, and returns the sum of the argument with itself.\n",
    "# In this snippet, we call the function and print out its return value. Try changing the argument to double and running it again."
   ]
  },
  {
   "cell_type": "code",
   "execution_count": 9,
   "metadata": {},
   "outputs": [],
   "source": [
    "# There are two ways you can test your function before submitting it.\n",
    "\n",
    "# 1. Main script environment\n",
    "# You can protect your testing code using this trick:\n",
    "# def add(a, b):\n",
    "#   return a + b\n",
    "  \n",
    "# if __name__ == '__main__':\n",
    "#   print(add(2, 3))\n",
    "#   print(add(1, 5))\n",
    "\n",
    "# When your file is the main program (by pressing  Run), Python sets __name__ to '__main__' and the code inside the if statement runs.\n",
    "# When we import your file for testing, __name__ is the module name, so the condition is False and no output is printed.\n",
    "# This is a common trick for testing individual files in large programs.\n",
    "\n",
    "# 2. Interactive terminal\n",
    "# Alternatively, you can test your function interactively by clicking  Terminal once you've defined your function in the editor. Then you can type in a call to your function at get it evaluated directly. For the add fuction from above, this would look like:\n",
    "\n",
    "# >>> add(2, 3)\n",
    "# 5\n",
    "# >>> add(1, 5)\n",
    "# 6"
   ]
  },
  {
   "cell_type": "code",
   "execution_count": 10,
   "metadata": {},
   "outputs": [
    {
     "name": "stdout",
     "output_type": "stream",
     "text": [
      "Hello, World!\n",
      "Hello, Grok!\n",
      "Hello, 123!\n"
     ]
    }
   ],
   "source": [
    "# Write a function called greet that takes a name argument and returns a greeting string. It should work like this in the terminal:\n",
    "\n",
    "\n",
    "# >>> greet('World')\n",
    "# 'Hello, World!'\n",
    "# >>> greet('Grok')\n",
    "# 'Hello, Grok!'\n",
    "# >>> greet('123')\n",
    "# 'Hello, 123!'\n",
    "\n",
    "# Your function should take the name and insert it into the greeting without changing it in any way\n",
    "# You can test your function using the if __name__ == '__main__' syntax from the previous slide.\n",
    "# If you unsure how to deal with Python strings, take a look at this tutorial on string concatenation, or this one for more generic string operations.\n",
    "\n",
    "\n",
    "\n",
    "\n",
    "# Write your greet function definition below:\n",
    "def greet(a):\n",
    "  return \"Hello, \"+a+\"!\"\n",
    "\n",
    "\n",
    "\n",
    "# Any code inside the if statement will be ignored by the automarker.\n",
    "# Put your test code in here, since it will be run by clicking Run or Terminal.\n",
    "if __name__ == '__main__':\n",
    "  print(greet('World'))\n",
    "  print(greet('Grok'))\n",
    "  print(greet('123'))"
   ]
  },
  {
   "cell_type": "code",
   "execution_count": 11,
   "metadata": {},
   "outputs": [],
   "source": [
    "# In this first set of activities, you have learned how to write and run code within Grok Learning and got a feel for how problems are set and marked.\n",
    "# We have also introduced you to the Python language, which we will use for our programming examples and exercises.\n",
    "# If you found the two problems difficult, you might want check out one of the tutorials we've listed at the beginning before you get started on the rest of the course.\n",
    "# Other than that, you're ready to go!\n",
    "# To reach the next Grok Learning activity you need to head back to Coursera so your marks are recorded.\n",
    "\n"
   ]
  },
  {
   "cell_type": "code",
   "execution_count": null,
   "metadata": {},
   "outputs": [],
   "source": []
  }
 ],
 "metadata": {
  "kernelspec": {
   "display_name": "Python 3",
   "language": "python",
   "name": "python3"
  },
  "language_info": {
   "codemirror_mode": {
    "name": "ipython",
    "version": 3
   },
   "file_extension": ".py",
   "mimetype": "text/x-python",
   "name": "python",
   "nbconvert_exporter": "python",
   "pygments_lexer": "ipython3",
   "version": "3.6.5"
  }
 },
 "nbformat": 4,
 "nbformat_minor": 2
}
